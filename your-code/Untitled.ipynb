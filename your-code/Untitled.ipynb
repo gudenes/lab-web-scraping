{
 "cells": [
  {
   "cell_type": "code",
   "execution_count": 1,
   "metadata": {},
   "outputs": [],
   "source": [
    "#sportingbet test"
   ]
  },
  {
   "cell_type": "code",
   "execution_count": 1,
   "metadata": {},
   "outputs": [],
   "source": [
    "headers = {'User-Agent': 'Mozilla/5.0 (Macintosh; Intel Mac OS X 10_14_2) AppleWebKit/537.36 (KHTML, like Gecko) Chrome/71.0.3578.98 Safari/537.36'}\n",
    "url = \"https://www.hltv.org/\"\n",
    "import requests\n",
    "from bs4 import BeautifulSoup as bs\n",
    "import pandas as pd"
   ]
  },
  {
   "cell_type": "code",
   "execution_count": 2,
   "metadata": {},
   "outputs": [],
   "source": [
    "html = requests.get(url,headers).content\n",
    "soup = bs(html, \"lxml\")"
   ]
  },
  {
   "cell_type": "code",
   "execution_count": 3,
   "metadata": {},
   "outputs": [
    {
     "data": {
      "text/plain": [
       "<!DOCTYPE html>\n",
       "<!--[if lt IE 7]> <html class=\"no-js ie6 oldie\" lang=\"en-US\"> <![endif]--><!--[if IE 7]>    <html class=\"no-js ie7 oldie\" lang=\"en-US\"> <![endif]--><!--[if IE 8]>    <html class=\"no-js ie8 oldie\" lang=\"en-US\"> <![endif]--><!--[if gt IE 8]><!--><html class=\"no-js\" lang=\"en-US\"> <!--<![endif]-->\n",
       "<head>\n",
       "<title>Attention Required! | Cloudflare</title>\n",
       "<meta id=\"captcha-bypass\" name=\"captcha-bypass\"/>\n",
       "<meta charset=\"utf-8\"/>\n",
       "<meta content=\"text/html; charset=utf-8\" http-equiv=\"Content-Type\"/>\n",
       "<meta content=\"IE=Edge,chrome=1\" http-equiv=\"X-UA-Compatible\"/>\n",
       "<meta content=\"noindex, nofollow\" name=\"robots\"/>\n",
       "<meta content=\"width=device-width,initial-scale=1,maximum-scale=1\" name=\"viewport\"/>\n",
       "<link href=\"/cdn-cgi/styles/cf.errors.css\" id=\"cf_styles-css\" media=\"screen,projection\" rel=\"stylesheet\" type=\"text/css\"/>\n",
       "<!--[if lt IE 9]><link rel=\"stylesheet\" id='cf_styles-ie-css' href=\"/cdn-cgi/styles/cf.errors.ie.css\" type=\"text/css\" media=\"screen,projection\" /><![endif]-->\n",
       "<style type=\"text/css\">body{margin:0;padding:0}</style>\n",
       "<!--[if gte IE 10]><!--><script src=\"/cdn-cgi/scripts/zepto.min.js\" type=\"text/javascript\"></script><!--<![endif]-->\n",
       "<!--[if gte IE 10]><!--><script src=\"/cdn-cgi/scripts/cf.common.js\" type=\"text/javascript\"></script><!--<![endif]-->\n",
       "</head>\n",
       "<body>\n",
       "<div id=\"cf-wrapper\">\n",
       "<div class=\"cf-alert cf-alert-error cf-cookie-error\" data-translate=\"enable_cookies\" id=\"cookie-alert\">Please enable cookies.</div>\n",
       "<div class=\"cf-error-details-wrapper\" id=\"cf-error-details\">\n",
       "<div class=\"cf-wrapper cf-header cf-error-overview\">\n",
       "<h1 data-translate=\"challenge_headline\">One more step</h1>\n",
       "<h2 class=\"cf-subheadline\"><span data-translate=\"complete_sec_check\">Please complete the security check to access</span> www.hltv.org</h2>\n",
       "</div><!-- /.header -->\n",
       "<div class=\"cf-section cf-highlight cf-captcha-container\">\n",
       "<div class=\"cf-wrapper\">\n",
       "<div class=\"cf-columns two\">\n",
       "<div class=\"cf-column\">\n",
       "<div class=\"cf-highlight-inverse cf-form-stacked\">\n",
       "<form action=\"/cdn-cgi/l/chk_captcha\" class=\"challenge-form\" id=\"challenge-form\" method=\"get\">\n",
       "<input name=\"s\" type=\"hidden\" value=\"65e2e016812655258c264ad9659f6da8d0ed564b-1563105412-1800-AeQDXsgu6tw5NS79MyRYtCjy1EMwwJBU5uTb4pDLtO8yR6KwpQ0xk5+oFWutX9x2r6crGwUqYtu2sjnziJKmo+67d64SC3r/AzwIt6DrIReWo4dNJXlos6U9eowAzySNN2sy9AbPgFYBwbqXvusxGmMj0lUeW/2cEpItKdjNim6wayTLKw2c+zW6Hromh7bU0UwnNjUAi+FP/nQGXmv8NdOMWFc8MdXlw0uhx6Tfl1QlS5tSYlU9JWwYfTNGDW/0ir3p2j/LZJMMbt4ptZzo1EhXb7rzFUWeJuYKvJIl7tGJ9ayWr/+ndm3pQMFPAtiBuQ==\"/>\n",
       "<script async=\"\" data-ray=\"4f6350de5fca2f2d\" data-sitekey=\"6LfBixYUAAAAABhdHynFUIMA_sa4s-XsJvnjtgB0\" data-type=\"normal\" src=\"/cdn-cgi/scripts/cf.challenge.js\" type=\"text/javascript\"></script>\n",
       "<div class=\"g-recaptcha\"></div>\n",
       "<noscript class=\"cf-captcha-info\" id=\"cf-captcha-bookmark\">\n",
       "<div><div style=\"width: 302px\">\n",
       "<div>\n",
       "<iframe frameborder=\"0\" scrolling=\"no\" src=\"https://www.google.com/recaptcha/api/fallback?k=6LfBixYUAAAAABhdHynFUIMA_sa4s-XsJvnjtgB0\" style=\"width: 302px; height:422px; border-style: none;\"></iframe>\n",
       "</div>\n",
       "<div style=\"width: 300px; border-style: none; bottom: 12px; left: 25px; margin: 0px; padding: 0px; right: 25px; background: #f9f9f9; border: 1px solid #c1c1c1; border-radius: 3px;\">\n",
       "<textarea class=\"g-recaptcha-response\" id=\"g-recaptcha-response\" name=\"g-recaptcha-response\" style=\"width: 250px; height: 40px; border: 1px solid #c1c1c1; margin: 10px 25px; padding: 0px; resize: none;\"></textarea>\n",
       "<input type=\"submit\" value=\"Submit\"/>\n",
       "</div>\n",
       "</div></div>\n",
       "</noscript>\n",
       "</form>\n",
       "</div>\n",
       "</div>\n",
       "<div class=\"cf-column\">\n",
       "<div class=\"cf-screenshot-container\">\n",
       "<span class=\"cf-no-screenshot\"></span>\n",
       "</div>\n",
       "</div>\n",
       "</div><!-- /.columns -->\n",
       "</div>\n",
       "</div><!-- /.captcha-container -->\n",
       "<div class=\"cf-section cf-wrapper\">\n",
       "<div class=\"cf-columns two\">\n",
       "<div class=\"cf-column\">\n",
       "<h2 data-translate=\"why_captcha_headline\">Why do I have to complete a CAPTCHA?</h2>\n",
       "<p data-translate=\"why_captcha_detail\">Completing the CAPTCHA proves you are a human and gives you temporary access to the web property.</p>\n",
       "</div>\n",
       "<div class=\"cf-column\">\n",
       "<h2 data-translate=\"resolve_captcha_headline\">What can I do to prevent this in the future?</h2>\n",
       "<p data-translate=\"resolve_captcha_antivirus\">If you are on a personal connection, like at home, you can run an anti-virus scan on your device to make sure it is not infected with malware.</p>\n",
       "<p data-translate=\"resolve_captcha_network\">If you are at an office or shared network, you can ask the network administrator to run a scan across the network looking for misconfigured or infected devices.</p>\n",
       "</div>\n",
       "</div>\n",
       "</div><!-- /.section -->\n",
       "<div class=\"cf-error-footer cf-wrapper\">\n",
       "<p>\n",
       "<span class=\"cf-footer-item\">Cloudflare Ray ID: <strong>4f6350de5fca2f2d</strong></span>\n",
       "<span class=\"cf-footer-separator\">•</span>\n",
       "<span class=\"cf-footer-item\"><span>Your IP</span>: 62.83.91.153</span>\n",
       "<span class=\"cf-footer-separator\">•</span>\n",
       "<span class=\"cf-footer-item\"><span>Performance &amp; security by</span> <a href=\"https://www.cloudflare.com/5xx-error-landing?utm_source=error_footer\" id=\"brand_link\" target=\"_blank\">Cloudflare</a></span>\n",
       "</p>\n",
       "</div><!-- /.error-footer -->\n",
       "</div><!-- /#cf-error-details -->\n",
       "</div><!-- /#cf-wrapper -->\n",
       "<script type=\"text/javascript\">\n",
       "  window._cf_translation = {};\n",
       "  \n",
       "  \n",
       "</script>\n",
       "</body>\n",
       "</html>"
      ]
     },
     "execution_count": 3,
     "metadata": {},
     "output_type": "execute_result"
    }
   ],
   "source": [
    "soup"
   ]
  },
  {
   "cell_type": "code",
   "execution_count": null,
   "metadata": {},
   "outputs": [],
   "source": []
  }
 ],
 "metadata": {
  "kernelspec": {
   "display_name": "Python 3",
   "language": "python",
   "name": "python3"
  },
  "language_info": {
   "codemirror_mode": {
    "name": "ipython",
    "version": 3
   },
   "file_extension": ".py",
   "mimetype": "text/x-python",
   "name": "python",
   "nbconvert_exporter": "python",
   "pygments_lexer": "ipython3",
   "version": "3.7.3"
  }
 },
 "nbformat": 4,
 "nbformat_minor": 2
}
